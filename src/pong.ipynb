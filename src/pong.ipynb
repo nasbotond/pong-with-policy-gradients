{
 "cells": [
  {
   "cell_type": "code",
   "execution_count": 1,
   "id": "f2d0b63c",
   "metadata": {},
   "outputs": [],
   "source": [
    "import gym # i used 0.10.5\n",
    "import numpy as np # i used 1.14.3\n",
    "import datetime\n",
    "import keras # i used 2.1.16 with tensorflow 1.8.0/\n",
    "import tensorflow as tf"
   ]
  },
  {
   "cell_type": "code",
   "execution_count": 2,
   "id": "545568d9",
   "metadata": {},
   "outputs": [],
   "source": [
    "import matplotlib.pyplot as plt\n",
    "%matplotlib inline"
   ]
  },
  {
   "cell_type": "code",
   "execution_count": 3,
   "id": "8597d7dd",
   "metadata": {},
   "outputs": [
    {
     "data": {
      "text/plain": [
       "(210, 160, 3)"
      ]
     },
     "execution_count": 3,
     "metadata": {},
     "output_type": "execute_result"
    }
   ],
   "source": [
    "env = gym.make('Pong-v0')\n",
    "observation = env.reset()\n",
    "observation.shape"
   ]
  },
  {
   "cell_type": "code",
   "execution_count": 4,
   "id": "04ec5555",
   "metadata": {},
   "outputs": [
    {
     "data": {
      "text/plain": [
       "<matplotlib.image.AxesImage at 0x232550550a0>"
      ]
     },
     "execution_count": 4,
     "metadata": {},
     "output_type": "execute_result"
    },
    {
     "data": {
      "image/png": "[encoded data removed]",
      "text/plain": [
       "<Figure size 432x288 with 1 Axes>"
      ]
     },
     "metadata": {
      "needs_background": "light"
     },
     "output_type": "display_data"
    }
   ],
   "source": [
    "plt.imshow(observation)"
   ]
  },
  {
   "cell_type": "code",
   "execution_count": 5,
   "id": "81d93825",
   "metadata": {},
   "outputs": [
    {
     "data": {
      "text/plain": [
       "<matplotlib.image.AxesImage at 0x232567a80a0>"
      ]
     },
     "execution_count": 5,
     "metadata": {},
     "output_type": "execute_result"
    },
    {
     "data": {
      "image/png": "[encoded data removed]",
      "text/plain": [
       "<Figure size 432x288 with 1 Axes>"
      ]
     },
     "metadata": {
      "needs_background": "light"
     },
     "output_type": "display_data"
    }
   ],
   "source": [
    "# i take some steps to see middle game scene\n",
    "# in pong game,\n",
    "# 0 is numeric action to stay at same place \n",
    "# 2 is numeric action to move paddle up in game\n",
    "# 3 is numeric action to move paddle down in game\n",
    "for i in range(30):\n",
    "    observation, reward, done, info = env.step(0)# 0 means stay the same place(or do nothing)\n",
    "    \n",
    "plt.imshow(observation)"
   ]
  },
  {
   "cell_type": "code",
   "execution_count": 6,
   "id": "72b14668",
   "metadata": {},
   "outputs": [
    {
     "data": {
      "text/plain": [
       "<matplotlib.image.AxesImage at 0x2325680f400>"
      ]
     },
     "execution_count": 6,
     "metadata": {},
     "output_type": "execute_result"
    },
    {
     "data": {
      "image/png": "[encoded data removed]",
      "text/plain": [
       "<Figure size 432x288 with 1 Axes>"
      ]
     },
     "metadata": {
      "needs_background": "light"
     },
     "output_type": "display_data"
    }
   ],
   "source": [
    "new_observation, reward, done, info = env.step(2)\n",
    "plt.imshow(observation)"
   ]
  },
  {
   "cell_type": "code",
   "execution_count": 7,
   "id": "7e30c23f",
   "metadata": {},
   "outputs": [],
   "source": [
    "def preprocess_frames(new_frame,last_frame):\n",
    "    # inputs are 2 numpy 2d arrays\n",
    "    n_frame = new_frame.astype(np.int32)\n",
    "    n_frame[(n_frame==144)|(n_frame==109)]=0 # remove backgound colors\n",
    "    l_frame = last_frame.astype(np.int32)\n",
    "    l_frame[(l_frame==144)|(l_frame==109)]=0 # remove backgound colors\n",
    "    diff = n_frame - l_frame\n",
    "    # crop top and bot \n",
    "    diff = diff[35:195]\n",
    "    # down sample \n",
    "    diff=diff[::2,::2]\n",
    "    # convert to grayscale\n",
    "    diff = diff[:,:,0] * 299. / 1000 + diff[:,:,1] * 587. / 1000 + diff[:,:,2] * 114. / 1000\n",
    "    # rescale numbers between 0 and 1\n",
    "    max_val =diff.max() if diff.max()> abs(diff.min()) else abs(diff.min())\n",
    "    if max_val != 0:\n",
    "        diff=diff/max_val\n",
    "    return diff"
   ]
  },
  {
   "cell_type": "code",
   "execution_count": 8,
   "id": "1c4ea453",
   "metadata": {},
   "outputs": [
    {
     "data": {
      "text/plain": [
       "<matplotlib.image.AxesImage at 0x232568668b0>"
      ]
     },
     "execution_count": 8,
     "metadata": {},
     "output_type": "execute_result"
    },
    {
     "data": {
      "image/png": "[encoded data removed]",
      "text/plain": [
       "<Figure size 432x288 with 1 Axes>"
      ]
     },
     "metadata": {
      "needs_background": "light"
     },
     "output_type": "display_data"
    }
   ],
   "source": [
    "plt.imshow(preprocess_frames(new_observation,observation),plt.cm.gray)"
   ]
  },
  {
   "cell_type": "code",
   "execution_count": 9,
   "id": "5f9ca34d",
   "metadata": {},
   "outputs": [
    {
     "data": {
      "text/plain": [
       "array([[0., 0., 0., ..., 0., 0., 0.],\n",
       "       [0., 0., 0., ..., 0., 0., 0.],\n",
       "       [0., 0., 0., ..., 0., 0., 0.],\n",
       "       ...,\n",
       "       [0., 0., 0., ..., 0., 0., 0.],\n",
       "       [0., 0., 0., ..., 0., 0., 0.],\n",
       "       [0., 0., 0., ..., 0., 0., 0.]])"
      ]
     },
     "execution_count": 9,
     "metadata": {},
     "output_type": "execute_result"
    }
   ],
   "source": [
    "preprocess_frames(new_observation,observation)"
   ]
  },
  {
   "cell_type": "code",
   "execution_count": 10,
   "id": "93815c96",
   "metadata": {},
   "outputs": [
    {
     "data": {
      "text/plain": [
       "(80, 80)"
      ]
     },
     "execution_count": 10,
     "metadata": {},
     "output_type": "execute_result"
    }
   ],
   "source": [
    "preprocess_frames(new_observation,observation).shape"
   ]
  },
  {
   "cell_type": "markdown",
   "id": "721bbd52",
   "metadata": {},
   "source": [
    "##  Modeling the Network"
   ]
  },
  {
   "cell_type": "code",
   "execution_count": 11,
   "id": "591957e5",
   "metadata": {},
   "outputs": [
    {
     "name": "stdout",
     "output_type": "stream",
     "text": [
      "Model: \"functional_1\"\n",
      "_________________________________________________________________\n",
      "Layer (type)                 Output Shape              Param #   \n",
      "=================================================================\n",
      "input_1 (InputLayer)         [(None, 80, 80)]          0         \n",
      "_________________________________________________________________\n",
      "flatten (Flatten)            (None, 6400)              0         \n",
      "_________________________________________________________________\n",
      "dense (Dense)                (None, 200)               1280000   \n",
      "_________________________________________________________________\n",
      "dense_1 (Dense)              (None, 1)                 200       \n",
      "=================================================================\n",
      "Total params: 1,280,200\n",
      "Trainable params: 1,280,200\n",
      "Non-trainable params: 0\n",
      "_________________________________________________________________\n"
     ]
    }
   ],
   "source": [
    "# simple 2 layer model \n",
    "# with 200 hidden units in first layer\n",
    "# and 1 sigmoid output\n",
    "inputs = keras.layers.Input(shape=(80,80))\n",
    "flattened_layer = keras.layers.Flatten()(inputs)\n",
    "full_connect_1 = keras.layers.Dense(units=200,activation='relu',use_bias=False,)(flattened_layer)\n",
    "sigmoid_output = keras.layers.Dense(1,activation='sigmoid',use_bias=False)(full_connect_1)\n",
    "policy_network_model = keras.models.Model(inputs=inputs,outputs=sigmoid_output)\n",
    "policy_network_model.summary()"
   ]
  },
  {
   "cell_type": "code",
   "execution_count": 12,
   "id": "af035505",
   "metadata": {},
   "outputs": [],
   "source": [
    "# another model\n",
    "# with convolutional layers \n",
    "# it has about 31000 parameters\n",
    "\n",
    "# inputs = keras.layers.Input(shape=(80,80))\n",
    "# channeled_input = keras.layers.Reshape((80,80,1))(inputs) # Conv2D requries (batch, height, width, channels)  so we need to create a dummy channel \n",
    "# conv_1 = keras.layers.Conv2D(filters=10,kernel_size=20,padding='valid',activation='relu',strides=(4,4),use_bias=False)(channeled_input)\n",
    "# conv_2 = keras.layers.Conv2D(filters=20,kernel_size=10,padding='valid',activation='relu',strides=(2,2),use_bias=False)(conv_1)\n",
    "# conv_3 = keras.layers.Conv2D(filters=40,kernel_size=3,padding='valid',activation='relu',use_bias=False)(conv_2)\n",
    "# flattened_layer = keras.layers.Flatten()(conv_3)\n",
    "# sigmoid_output = keras.layers.Dense(1,activation='sigmoid',use_bias=False)(flattened_layer)\n",
    "# policy_network_model = keras.models.Model(inputs=inputs,outputs=sigmoid_output)\n",
    "# policy_network_model.summary()"
   ]
  },
  {
   "cell_type": "markdown",
   "id": "aa8cd469",
   "metadata": {},
   "source": [
    "# Defining Loss"
   ]
  },
  {
   "cell_type": "code",
   "execution_count": 13,
   "id": "df0e31b6",
   "metadata": {},
   "outputs": [],
   "source": [
    "episode_reward = keras.layers.Input(shape=(1,),name='episode_reward')"
   ]
  },
  {
   "cell_type": "code",
   "execution_count": 14,
   "id": "ee0c9a81",
   "metadata": {},
   "outputs": [],
   "source": [
    "def m_loss(episode_reward):\n",
    "    def loss(y_true,y_pred):\n",
    "        # feed in y_true as actual action taken \n",
    "        # if actual action was up, we feed 1 as y_true and otherwise 0\n",
    "        # y_pred is the network output(probablity of taking up action)\n",
    "        # note that we dont feed y_pred to network. keras computes it\n",
    "        \n",
    "        # first we clip y_pred between some values because log(0) and log(1) are undefined\n",
    "        tmp_pred = keras.layers.Lambda(lambda x: keras.backend.clip(x,0.05,0.95))(y_pred)\n",
    "        # we calculate log of probablity. y_pred is the probablity of taking up action\n",
    "        # note that y_true is 1 when we actually chose up, and 0 when we chose down\n",
    "        # this is probably similar to cross enthropy formula in keras, but here we write it manually to multiply it by the reward value\n",
    "        tmp_loss = keras.layers.Lambda(lambda x:-y_true*keras.backend.log(x)-(1-y_true)*(keras.backend.log(1-x)))(tmp_pred)\n",
    "        # multiply log of policy by reward\n",
    "        policy_loss=keras.layers.Multiply()([tmp_loss,episode_reward])\n",
    "        return policy_loss\n",
    "    return loss"
   ]
  },
  {
   "cell_type": "code",
   "execution_count": 15,
   "id": "58e231a7",
   "metadata": {},
   "outputs": [],
   "source": [
    "episode_reward = keras.layers.Input(shape=(1,),name='episode_reward')\n",
    "policy_network_train = keras.models.Model(inputs=[inputs,episode_reward],outputs=sigmoid_output)\n",
    "\n",
    "my_optimizer = keras.optimizers.RMSprop(lr=0.0001)\n",
    "policy_network_train.compile(optimizer=my_optimizer,loss=m_loss(episode_reward),)"
   ]
  },
  {
   "cell_type": "markdown",
   "id": "83e92fa3",
   "metadata": {},
   "source": [
    "# Reward Engineering"
   ]
  },
  {
   "cell_type": "code",
   "execution_count": 16,
   "id": "27cb4e81",
   "metadata": {},
   "outputs": [],
   "source": [
    "def generate_episode(policy_network):\n",
    "    states_list = [] # shape = (x,80,80)\n",
    "    up_or_down_action_list=[] # 1 if we chose up. 0 if down\n",
    "    rewards_list=[]\n",
    "    network_output_list=[]\n",
    "    env=gym.make(\"Pong-v0\")\n",
    "    observation = env.reset()\n",
    "    new_observation = observation\n",
    "    done = False\n",
    "    policy_output_list = []\n",
    "    \n",
    "    while done == False:\n",
    "    \n",
    "        processed_network_input = preprocess_frames(new_frame=new_observation,last_frame=observation)\n",
    "        states_list.append(processed_network_input)\n",
    "        reshaped_input = np.expand_dims(processed_network_input,axis=0) # x shape is (80,80) so we need similar reshape(x,(1,80,80))\n",
    "\n",
    "        up_probability = policy_network.predict(reshaped_input,batch_size=1)[0][0]\n",
    "        network_output_list.append(up_probability)\n",
    "        policy_output_list.append(up_probability)\n",
    "        actual_action = np.random.choice(a=[2,3],size=1,p=[up_probability,1-up_probability]) # 2 is up. 3 is down \n",
    "        if actual_action==2:\n",
    "            up_or_down_action_list.append(1)\n",
    "        else:\n",
    "            up_or_down_action_list.append(0)\n",
    "        \n",
    "        observation= new_observation\n",
    "        new_observation, reward, done, info = env.step(actual_action)\n",
    "        \n",
    "        rewards_list.append(reward)\n",
    "        \n",
    "        if done:\n",
    "            break\n",
    "            \n",
    "    env.close()\n",
    "    return states_list,up_or_down_action_list,rewards_list,network_output_list"
   ]
  },
  {
   "cell_type": "code",
   "execution_count": 17,
   "id": "c77b804e",
   "metadata": {},
   "outputs": [],
   "source": [
    "states_list,up_or_down_action_list,rewards_list,network_output_list = generate_episode(policy_network_model)"
   ]
  },
  {
   "cell_type": "code",
   "execution_count": 18,
   "id": "09277551",
   "metadata": {},
   "outputs": [
    {
     "name": "stdout",
     "output_type": "stream",
     "text": [
      "length of states= 1102\n",
      "shape of each state=(80, 80)\n",
      "length of rewards= 1102\n"
     ]
    }
   ],
   "source": [
    "print(\"length of states= \"+str(len(states_list)))# this is the number of frames\n",
    "print(\"shape of each state=\"+str(states_list[0].shape))\n",
    "print(\"length of rewards= \"+str(len(rewards_list)))"
   ]
  },
  {
   "cell_type": "code",
   "execution_count": 19,
   "id": "0388761e",
   "metadata": {},
   "outputs": [
    {
     "name": "stdout",
     "output_type": "stream",
     "text": [
      "[0.48949, 0.505313, 0.50034374, 0.5112063, 0.47803304, 0.50664026, 0.5222534, 0.5079792, 0.50031585, 0.4839182, 0.50091386, 0.5048503, 0.4986176, 0.4878279, 0.5024162, 0.47971866, 0.48274967, 0.5118669, 0.49721506, 0.5082506]\n"
     ]
    }
   ],
   "source": [
    "# lets see sample of policy output\n",
    "print(network_output_list[30:50])"
   ]
  },
  {
   "cell_type": "code",
   "execution_count": 20,
   "id": "8293bee1",
   "metadata": {},
   "outputs": [
    {
     "data": {
      "text/plain": [
       "[1, 0, 1, 0, 0, 0, 1, 0, 0, 1, 0, 0, 1, 0, 1, 0, 1, 1, 0, 1]"
      ]
     },
     "execution_count": 20,
     "metadata": {},
     "output_type": "execute_result"
    }
   ],
   "source": [
    "#lets see a sample what we actually did: 1 means we went up, 0 means down\n",
    "up_or_down_action_list[30:50]"
   ]
  },
  {
   "cell_type": "code",
   "execution_count": 21,
   "id": "7a7f2dd1",
   "metadata": {},
   "outputs": [
    {
     "name": "stdout",
     "output_type": "stream",
     "text": [
      "[0.0, 0.0, 0.0, 0.0, 0.0, 0.0, 0.0, 0.0, 0.0, 0.0, 0.0, 0.0, 0.0, 0.0, 0.0, 0.0, 0.0, 0.0, 0.0, 0.0, 0.0, 0.0, 0.0, 0.0, 0.0, 0.0, 0.0, 0.0, 0.0, 0.0, 0.0, 0.0, 0.0, 0.0, 0.0, 0.0, 0.0, 0.0, -1.0, 0.0, 0.0, 0.0, 0.0, 0.0, 0.0, 0.0, 0.0, 0.0, 0.0, 0.0]\n"
     ]
    }
   ],
   "source": [
    "# lets see sample of rewards\n",
    "print(rewards_list[50:100])"
   ]
  },
  {
   "cell_type": "code",
   "execution_count": 22,
   "id": "f35f8379",
   "metadata": {},
   "outputs": [
    {
     "name": "stdout",
     "output_type": "stream",
     "text": [
      "count win=0\n",
      "count lose=21\n",
      "count zero rewards=1081\n"
     ]
    }
   ],
   "source": [
    "# lets see how many times we won through whole game:\n",
    "print(\"count win=\"+str(len(list(filter(lambda r: r>0,rewards_list)))))\n",
    "print(\"count lose=\"+str(len(list(filter(lambda r: r<0,rewards_list)))))\n",
    "print(\"count zero rewards=\"+str(len(list(filter(lambda r: r==0,rewards_list)))))"
   ]
  },
  {
   "cell_type": "code",
   "execution_count": 23,
   "id": "caf062e4",
   "metadata": {},
   "outputs": [
    {
     "data": {
      "image/png": "[encoded data removed]",
      "text/plain": [
       "<Figure size 432x288 with 1 Axes>"
      ]
     },
     "metadata": {
      "needs_background": "light"
     },
     "output_type": "display_data"
    }
   ],
   "source": [
    "plt.plot(rewards_list,'.')\n",
    "ax=plt.gca()\n",
    "ax.grid(True)"
   ]
  },
  {
   "cell_type": "code",
   "execution_count": 24,
   "id": "ec7e6d76",
   "metadata": {},
   "outputs": [],
   "source": [
    "def process_rewards(r_list):\n",
    "    reward_decay=0.99\n",
    "    tmp_r=0\n",
    "    rew=np.zeros_like(r_list,dtype=np.float32)\n",
    "    for i in range(len(r_list)-1,-1,-1):\n",
    "        if r_list[i]==0:\n",
    "            tmp_r=tmp_r*reward_decay\n",
    "            rew[i]=tmp_r\n",
    "        else: \n",
    "            tmp_r = r_list[i]\n",
    "            rew[i]=tmp_r\n",
    "    return rew"
   ]
  },
  {
   "cell_type": "code",
   "execution_count": 25,
   "id": "90fa6259",
   "metadata": {},
   "outputs": [
    {
     "data": {
      "image/png": "[encoded data removed]",
      "text/plain": [
       "<Figure size 432x288 with 1 Axes>"
      ]
     },
     "metadata": {
      "needs_background": "light"
     },
     "output_type": "display_data"
    }
   ],
   "source": [
    "# lets see what this gives us:\n",
    "plt.plot(process_rewards(rewards_list),'-')\n",
    "ax=plt.gca()\n",
    "ax.grid(True)"
   ]
  },
  {
   "cell_type": "code",
   "execution_count": 26,
   "id": "c479a2ee",
   "metadata": {},
   "outputs": [],
   "source": [
    "def process_rewards(r_list):\n",
    "    reward_decay=0.99\n",
    "    tmp_r=0\n",
    "    rew=np.zeros_like(r_list,dtype=np.float32)\n",
    "    for i in range(len(r_list)-1,-1,-1):\n",
    "        if r_list[i]==0:\n",
    "            tmp_r=tmp_r*reward_decay\n",
    "            rew[i]=tmp_r\n",
    "        else: \n",
    "            tmp_r = r_list[i]\n",
    "            rew[i]=tmp_r\n",
    "    rew -= np.mean(rew) # subtract by average\n",
    "    rew /= np.std(rew) # divide by std\n",
    "    return rew"
   ]
  },
  {
   "cell_type": "code",
   "execution_count": 27,
   "id": "10423e1f",
   "metadata": {},
   "outputs": [
    {
     "data": {
      "image/png": "[encoded data removed]",
      "text/plain": [
       "<Figure size 432x288 with 1 Axes>"
      ]
     },
     "metadata": {
      "needs_background": "light"
     },
     "output_type": "display_data"
    }
   ],
   "source": [
    "plt.plot(process_rewards(rewards_list),'-',)\n",
    "ax=plt.gca()\n",
    "ax.grid(True)"
   ]
  },
  {
   "cell_type": "markdown",
   "id": "fdb432bc",
   "metadata": {},
   "source": [
    "# Example of Simulation and Training"
   ]
  },
  {
   "cell_type": "markdown",
   "id": "b8d6005b",
   "metadata": {},
   "source": [
    "# Training the Network"
   ]
  },
  {
   "cell_type": "code",
   "execution_count": 36,
   "id": "e03e623e",
   "metadata": {},
   "outputs": [],
   "source": [
    "# we define a helper function to create a batch of simulations\n",
    "# and after the batch simulations, preprocess data and fit the network\n",
    "def generate_episode_batches_and_train_network(n_batches=10):\n",
    "    env = gym.make('Pong-v0')\n",
    "    batch_state_list=[]\n",
    "    batch_up_or_down_action_list=[]\n",
    "    batch_rewards_list=[]\n",
    "    batch_network_output_list=[]\n",
    "    for i in range(n_batches):\n",
    "        states_list,up_or_down_action_list,rewards_list,network_output_list = generate_episode(policy_network_model)   \n",
    "        batch_state_list.extend(states_list[15:])\n",
    "        batch_network_output_list.extend(network_output_list[15:])\n",
    "        batch_up_or_down_action_list.extend(up_or_down_action_list[15:])\n",
    "        batch_rewards_list.extend(rewards_list[15:])\n",
    "    \n",
    "    episode_reward=np.expand_dims(process_rewards(batch_rewards_list),1)\n",
    "    x=np.array(batch_state_list)\n",
    "    y_tmp = np.array(batch_up_or_down_action_list)\n",
    "    y_true = np.expand_dims(y_tmp,1)\n",
    "    policy_network_train.fit(x=[x,episode_reward],y=y_true)\n",
    "\n",
    "    return batch_state_list,batch_up_or_down_action_list,batch_rewards_list,batch_network_output_list"
   ]
  },
  {
   "cell_type": "code",
   "execution_count": 37,
   "id": "714af15f",
   "metadata": {},
   "outputs": [
    {
     "ename": "TypeError",
     "evalue": "in user code:\n\n    C:\\Users\\nasbo\\.conda\\envs\\ELTE-RL\\lib\\site-packages\\tensorflow\\python\\keras\\engine\\training.py:806 train_function  *\n        return step_function(self, iterator)\n    <ipython-input-14-05e4278b786d>:13 loss  *\n        tmp_loss = keras.layers.Lambda(lambda x:-y_true*keras.backend.log(x)-(1-y_true)*(keras.backend.log(1-x)))(tmp_pred)\n    C:\\Users\\nasbo\\.conda\\envs\\ELTE-RL\\lib\\site-packages\\tensorflow\\python\\ops\\math_ops.py:1141 binary_op_wrapper\n        raise e\n    C:\\Users\\nasbo\\.conda\\envs\\ELTE-RL\\lib\\site-packages\\tensorflow\\python\\ops\\math_ops.py:1125 binary_op_wrapper\n        return func(x, y, name=name)\n    C:\\Users\\nasbo\\.conda\\envs\\ELTE-RL\\lib\\site-packages\\tensorflow\\python\\ops\\math_ops.py:1457 _mul_dispatch\n        return multiply(x, y, name=name)\n    C:\\Users\\nasbo\\.conda\\envs\\ELTE-RL\\lib\\site-packages\\tensorflow\\python\\util\\dispatch.py:201 wrapper\n        return target(*args, **kwargs)\n    C:\\Users\\nasbo\\.conda\\envs\\ELTE-RL\\lib\\site-packages\\tensorflow\\python\\ops\\math_ops.py:509 multiply\n        return gen_math_ops.mul(x, y, name)\n    C:\\Users\\nasbo\\.conda\\envs\\ELTE-RL\\lib\\site-packages\\tensorflow\\python\\ops\\gen_math_ops.py:6174 mul\n        _, _, _op, _outputs = _op_def_library._apply_op_helper(\n    C:\\Users\\nasbo\\.conda\\envs\\ELTE-RL\\lib\\site-packages\\tensorflow\\python\\framework\\op_def_library.py:503 _apply_op_helper\n        raise TypeError(\n\n    TypeError: Input 'y' of 'Mul' Op has type float32 that does not match type int32 of argument 'x'.\n",
     "output_type": "error",
     "traceback": [
      "\u001b[1;31m---------------------------------------------------------------------------\u001b[0m",
      "\u001b[1;31mTypeError\u001b[0m                                 Traceback (most recent call last)",
      "\u001b[1;32m<ipython-input-37-6b10cf2b3e19>\u001b[0m in \u001b[0;36m<module>\u001b[1;34m\u001b[0m\n\u001b[0;32m      1\u001b[0m \u001b[0mtrain_n_times\u001b[0m \u001b[1;33m=\u001b[0m \u001b[1;36m21\u001b[0m \u001b[1;31m# for actual training, about 5000 may be a good start.\u001b[0m\u001b[1;33m\u001b[0m\u001b[1;33m\u001b[0m\u001b[0m\n\u001b[0;32m      2\u001b[0m \u001b[1;32mfor\u001b[0m \u001b[0mi\u001b[0m \u001b[1;32min\u001b[0m \u001b[0mrange\u001b[0m\u001b[1;33m(\u001b[0m\u001b[0mtrain_n_times\u001b[0m\u001b[1;33m)\u001b[0m\u001b[1;33m:\u001b[0m\u001b[1;33m\u001b[0m\u001b[1;33m\u001b[0m\u001b[0m\n\u001b[1;32m----> 3\u001b[1;33m     \u001b[0mstates_list\u001b[0m\u001b[1;33m,\u001b[0m\u001b[0mup_or_down_action_list\u001b[0m\u001b[1;33m,\u001b[0m\u001b[0mrewards_list\u001b[0m\u001b[1;33m,\u001b[0m\u001b[0mnetwork_output_list\u001b[0m\u001b[1;33m=\u001b[0m\u001b[0mgenerate_episode_batches_and_train_network\u001b[0m\u001b[1;33m(\u001b[0m\u001b[1;36m10\u001b[0m\u001b[1;33m)\u001b[0m\u001b[1;33m\u001b[0m\u001b[1;33m\u001b[0m\u001b[0m\n\u001b[0m\u001b[0;32m      4\u001b[0m     \u001b[1;32mif\u001b[0m \u001b[0mi\u001b[0m\u001b[1;33m%\u001b[0m\u001b[1;36m10\u001b[0m\u001b[1;33m==\u001b[0m\u001b[1;36m0\u001b[0m\u001b[1;33m:\u001b[0m\u001b[1;33m\u001b[0m\u001b[1;33m\u001b[0m\u001b[0m\n\u001b[0;32m      5\u001b[0m         \u001b[0mprint\u001b[0m\u001b[1;33m(\u001b[0m\u001b[1;34m\"i=\"\u001b[0m\u001b[1;33m+\u001b[0m\u001b[0mstr\u001b[0m\u001b[1;33m(\u001b[0m\u001b[0mi\u001b[0m\u001b[1;33m)\u001b[0m\u001b[1;33m)\u001b[0m\u001b[1;33m\u001b[0m\u001b[1;33m\u001b[0m\u001b[0m\n",
      "\u001b[1;32m<ipython-input-36-a7e970ca29ff>\u001b[0m in \u001b[0;36mgenerate_episode_batches_and_train_network\u001b[1;34m(n_batches)\u001b[0m\n\u001b[0;32m     18\u001b[0m     \u001b[0my_tmp\u001b[0m \u001b[1;33m=\u001b[0m \u001b[0mnp\u001b[0m\u001b[1;33m.\u001b[0m\u001b[0marray\u001b[0m\u001b[1;33m(\u001b[0m\u001b[0mbatch_up_or_down_action_list\u001b[0m\u001b[1;33m)\u001b[0m\u001b[1;33m\u001b[0m\u001b[1;33m\u001b[0m\u001b[0m\n\u001b[0;32m     19\u001b[0m     \u001b[0my_true\u001b[0m \u001b[1;33m=\u001b[0m \u001b[0mnp\u001b[0m\u001b[1;33m.\u001b[0m\u001b[0mexpand_dims\u001b[0m\u001b[1;33m(\u001b[0m\u001b[0my_tmp\u001b[0m\u001b[1;33m,\u001b[0m\u001b[1;36m1\u001b[0m\u001b[1;33m)\u001b[0m\u001b[1;33m\u001b[0m\u001b[1;33m\u001b[0m\u001b[0m\n\u001b[1;32m---> 20\u001b[1;33m     \u001b[0mpolicy_network_train\u001b[0m\u001b[1;33m.\u001b[0m\u001b[0mfit\u001b[0m\u001b[1;33m(\u001b[0m\u001b[0mx\u001b[0m\u001b[1;33m=\u001b[0m\u001b[1;33m[\u001b[0m\u001b[0mx\u001b[0m\u001b[1;33m,\u001b[0m\u001b[0mepisode_reward\u001b[0m\u001b[1;33m]\u001b[0m\u001b[1;33m,\u001b[0m\u001b[0my\u001b[0m\u001b[1;33m=\u001b[0m\u001b[0my_true\u001b[0m\u001b[1;33m)\u001b[0m\u001b[1;33m\u001b[0m\u001b[1;33m\u001b[0m\u001b[0m\n\u001b[0m\u001b[0;32m     21\u001b[0m \u001b[1;33m\u001b[0m\u001b[0m\n\u001b[0;32m     22\u001b[0m     \u001b[1;32mreturn\u001b[0m \u001b[0mbatch_state_list\u001b[0m\u001b[1;33m,\u001b[0m\u001b[0mbatch_up_or_down_action_list\u001b[0m\u001b[1;33m,\u001b[0m\u001b[0mbatch_rewards_list\u001b[0m\u001b[1;33m,\u001b[0m\u001b[0mbatch_network_output_list\u001b[0m\u001b[1;33m\u001b[0m\u001b[1;33m\u001b[0m\u001b[0m\n",
      "\u001b[1;32m~\\.conda\\envs\\ELTE-RL\\lib\\site-packages\\tensorflow\\python\\keras\\engine\\training.py\u001b[0m in \u001b[0;36m_method_wrapper\u001b[1;34m(self, *args, **kwargs)\u001b[0m\n\u001b[0;32m    106\u001b[0m   \u001b[1;32mdef\u001b[0m \u001b[0m_method_wrapper\u001b[0m\u001b[1;33m(\u001b[0m\u001b[0mself\u001b[0m\u001b[1;33m,\u001b[0m \u001b[1;33m*\u001b[0m\u001b[0margs\u001b[0m\u001b[1;33m,\u001b[0m \u001b[1;33m**\u001b[0m\u001b[0mkwargs\u001b[0m\u001b[1;33m)\u001b[0m\u001b[1;33m:\u001b[0m\u001b[1;33m\u001b[0m\u001b[1;33m\u001b[0m\u001b[0m\n\u001b[0;32m    107\u001b[0m     \u001b[1;32mif\u001b[0m \u001b[1;32mnot\u001b[0m \u001b[0mself\u001b[0m\u001b[1;33m.\u001b[0m\u001b[0m_in_multi_worker_mode\u001b[0m\u001b[1;33m(\u001b[0m\u001b[1;33m)\u001b[0m\u001b[1;33m:\u001b[0m  \u001b[1;31m# pylint: disable=protected-access\u001b[0m\u001b[1;33m\u001b[0m\u001b[1;33m\u001b[0m\u001b[0m\n\u001b[1;32m--> 108\u001b[1;33m       \u001b[1;32mreturn\u001b[0m \u001b[0mmethod\u001b[0m\u001b[1;33m(\u001b[0m\u001b[0mself\u001b[0m\u001b[1;33m,\u001b[0m \u001b[1;33m*\u001b[0m\u001b[0margs\u001b[0m\u001b[1;33m,\u001b[0m \u001b[1;33m**\u001b[0m\u001b[0mkwargs\u001b[0m\u001b[1;33m)\u001b[0m\u001b[1;33m\u001b[0m\u001b[1;33m\u001b[0m\u001b[0m\n\u001b[0m\u001b[0;32m    109\u001b[0m \u001b[1;33m\u001b[0m\u001b[0m\n\u001b[0;32m    110\u001b[0m     \u001b[1;31m# Running inside `run_distribute_coordinator` already.\u001b[0m\u001b[1;33m\u001b[0m\u001b[1;33m\u001b[0m\u001b[1;33m\u001b[0m\u001b[0m\n",
      "\u001b[1;32m~\\.conda\\envs\\ELTE-RL\\lib\\site-packages\\tensorflow\\python\\keras\\engine\\training.py\u001b[0m in \u001b[0;36mfit\u001b[1;34m(self, x, y, batch_size, epochs, verbose, callbacks, validation_split, validation_data, shuffle, class_weight, sample_weight, initial_epoch, steps_per_epoch, validation_steps, validation_batch_size, validation_freq, max_queue_size, workers, use_multiprocessing)\u001b[0m\n\u001b[0;32m   1096\u001b[0m                 batch_size=batch_size):\n\u001b[0;32m   1097\u001b[0m               \u001b[0mcallbacks\u001b[0m\u001b[1;33m.\u001b[0m\u001b[0mon_train_batch_begin\u001b[0m\u001b[1;33m(\u001b[0m\u001b[0mstep\u001b[0m\u001b[1;33m)\u001b[0m\u001b[1;33m\u001b[0m\u001b[1;33m\u001b[0m\u001b[0m\n\u001b[1;32m-> 1098\u001b[1;33m               \u001b[0mtmp_logs\u001b[0m \u001b[1;33m=\u001b[0m \u001b[0mtrain_function\u001b[0m\u001b[1;33m(\u001b[0m\u001b[0miterator\u001b[0m\u001b[1;33m)\u001b[0m\u001b[1;33m\u001b[0m\u001b[1;33m\u001b[0m\u001b[0m\n\u001b[0m\u001b[0;32m   1099\u001b[0m               \u001b[1;32mif\u001b[0m \u001b[0mdata_handler\u001b[0m\u001b[1;33m.\u001b[0m\u001b[0mshould_sync\u001b[0m\u001b[1;33m:\u001b[0m\u001b[1;33m\u001b[0m\u001b[1;33m\u001b[0m\u001b[0m\n\u001b[0;32m   1100\u001b[0m                 \u001b[0mcontext\u001b[0m\u001b[1;33m.\u001b[0m\u001b[0masync_wait\u001b[0m\u001b[1;33m(\u001b[0m\u001b[1;33m)\u001b[0m\u001b[1;33m\u001b[0m\u001b[1;33m\u001b[0m\u001b[0m\n",
      "\u001b[1;32m~\\.conda\\envs\\ELTE-RL\\lib\\site-packages\\tensorflow\\python\\eager\\def_function.py\u001b[0m in \u001b[0;36m__call__\u001b[1;34m(self, *args, **kwds)\u001b[0m\n\u001b[0;32m    778\u001b[0m       \u001b[1;32melse\u001b[0m\u001b[1;33m:\u001b[0m\u001b[1;33m\u001b[0m\u001b[1;33m\u001b[0m\u001b[0m\n\u001b[0;32m    779\u001b[0m         \u001b[0mcompiler\u001b[0m \u001b[1;33m=\u001b[0m \u001b[1;34m\"nonXla\"\u001b[0m\u001b[1;33m\u001b[0m\u001b[1;33m\u001b[0m\u001b[0m\n\u001b[1;32m--> 780\u001b[1;33m         \u001b[0mresult\u001b[0m \u001b[1;33m=\u001b[0m \u001b[0mself\u001b[0m\u001b[1;33m.\u001b[0m\u001b[0m_call\u001b[0m\u001b[1;33m(\u001b[0m\u001b[1;33m*\u001b[0m\u001b[0margs\u001b[0m\u001b[1;33m,\u001b[0m \u001b[1;33m**\u001b[0m\u001b[0mkwds\u001b[0m\u001b[1;33m)\u001b[0m\u001b[1;33m\u001b[0m\u001b[1;33m\u001b[0m\u001b[0m\n\u001b[0m\u001b[0;32m    781\u001b[0m \u001b[1;33m\u001b[0m\u001b[0m\n\u001b[0;32m    782\u001b[0m       \u001b[0mnew_tracing_count\u001b[0m \u001b[1;33m=\u001b[0m \u001b[0mself\u001b[0m\u001b[1;33m.\u001b[0m\u001b[0m_get_tracing_count\u001b[0m\u001b[1;33m(\u001b[0m\u001b[1;33m)\u001b[0m\u001b[1;33m\u001b[0m\u001b[1;33m\u001b[0m\u001b[0m\n",
      "\u001b[1;32m~\\.conda\\envs\\ELTE-RL\\lib\\site-packages\\tensorflow\\python\\eager\\def_function.py\u001b[0m in \u001b[0;36m_call\u001b[1;34m(self, *args, **kwds)\u001b[0m\n\u001b[0;32m    812\u001b[0m       \u001b[1;31m# In this case we have not created variables on the first call. So we can\u001b[0m\u001b[1;33m\u001b[0m\u001b[1;33m\u001b[0m\u001b[1;33m\u001b[0m\u001b[0m\n\u001b[0;32m    813\u001b[0m       \u001b[1;31m# run the first trace but we should fail if variables are created.\u001b[0m\u001b[1;33m\u001b[0m\u001b[1;33m\u001b[0m\u001b[1;33m\u001b[0m\u001b[0m\n\u001b[1;32m--> 814\u001b[1;33m       \u001b[0mresults\u001b[0m \u001b[1;33m=\u001b[0m \u001b[0mself\u001b[0m\u001b[1;33m.\u001b[0m\u001b[0m_stateful_fn\u001b[0m\u001b[1;33m(\u001b[0m\u001b[1;33m*\u001b[0m\u001b[0margs\u001b[0m\u001b[1;33m,\u001b[0m \u001b[1;33m**\u001b[0m\u001b[0mkwds\u001b[0m\u001b[1;33m)\u001b[0m\u001b[1;33m\u001b[0m\u001b[1;33m\u001b[0m\u001b[0m\n\u001b[0m\u001b[0;32m    815\u001b[0m       \u001b[1;32mif\u001b[0m \u001b[0mself\u001b[0m\u001b[1;33m.\u001b[0m\u001b[0m_created_variables\u001b[0m\u001b[1;33m:\u001b[0m\u001b[1;33m\u001b[0m\u001b[1;33m\u001b[0m\u001b[0m\n\u001b[0;32m    816\u001b[0m         raise ValueError(\"Creating variables on a non-first call to a function\"\n",
      "\u001b[1;32m~\\.conda\\envs\\ELTE-RL\\lib\\site-packages\\tensorflow\\python\\eager\\function.py\u001b[0m in \u001b[0;36m__call__\u001b[1;34m(self, *args, **kwargs)\u001b[0m\n\u001b[0;32m   2826\u001b[0m     \u001b[1;34m\"\"\"Calls a graph function specialized to the inputs.\"\"\"\u001b[0m\u001b[1;33m\u001b[0m\u001b[1;33m\u001b[0m\u001b[0m\n\u001b[0;32m   2827\u001b[0m     \u001b[1;32mwith\u001b[0m \u001b[0mself\u001b[0m\u001b[1;33m.\u001b[0m\u001b[0m_lock\u001b[0m\u001b[1;33m:\u001b[0m\u001b[1;33m\u001b[0m\u001b[1;33m\u001b[0m\u001b[0m\n\u001b[1;32m-> 2828\u001b[1;33m       \u001b[0mgraph_function\u001b[0m\u001b[1;33m,\u001b[0m \u001b[0margs\u001b[0m\u001b[1;33m,\u001b[0m \u001b[0mkwargs\u001b[0m \u001b[1;33m=\u001b[0m \u001b[0mself\u001b[0m\u001b[1;33m.\u001b[0m\u001b[0m_maybe_define_function\u001b[0m\u001b[1;33m(\u001b[0m\u001b[0margs\u001b[0m\u001b[1;33m,\u001b[0m \u001b[0mkwargs\u001b[0m\u001b[1;33m)\u001b[0m\u001b[1;33m\u001b[0m\u001b[1;33m\u001b[0m\u001b[0m\n\u001b[0m\u001b[0;32m   2829\u001b[0m     \u001b[1;32mreturn\u001b[0m \u001b[0mgraph_function\u001b[0m\u001b[1;33m.\u001b[0m\u001b[0m_filtered_call\u001b[0m\u001b[1;33m(\u001b[0m\u001b[0margs\u001b[0m\u001b[1;33m,\u001b[0m \u001b[0mkwargs\u001b[0m\u001b[1;33m)\u001b[0m  \u001b[1;31m# pylint: disable=protected-access\u001b[0m\u001b[1;33m\u001b[0m\u001b[1;33m\u001b[0m\u001b[0m\n\u001b[0;32m   2830\u001b[0m \u001b[1;33m\u001b[0m\u001b[0m\n",
      "\u001b[1;32m~\\.conda\\envs\\ELTE-RL\\lib\\site-packages\\tensorflow\\python\\eager\\function.py\u001b[0m in \u001b[0;36m_maybe_define_function\u001b[1;34m(self, args, kwargs)\u001b[0m\n\u001b[0;32m   3208\u001b[0m           \u001b[1;32mand\u001b[0m \u001b[0mself\u001b[0m\u001b[1;33m.\u001b[0m\u001b[0minput_signature\u001b[0m \u001b[1;32mis\u001b[0m \u001b[1;32mNone\u001b[0m\u001b[1;33m\u001b[0m\u001b[1;33m\u001b[0m\u001b[0m\n\u001b[0;32m   3209\u001b[0m           and call_context_key in self._function_cache.missed):\n\u001b[1;32m-> 3210\u001b[1;33m         \u001b[1;32mreturn\u001b[0m \u001b[0mself\u001b[0m\u001b[1;33m.\u001b[0m\u001b[0m_define_function_with_shape_relaxation\u001b[0m\u001b[1;33m(\u001b[0m\u001b[0margs\u001b[0m\u001b[1;33m,\u001b[0m \u001b[0mkwargs\u001b[0m\u001b[1;33m)\u001b[0m\u001b[1;33m\u001b[0m\u001b[1;33m\u001b[0m\u001b[0m\n\u001b[0m\u001b[0;32m   3211\u001b[0m \u001b[1;33m\u001b[0m\u001b[0m\n\u001b[0;32m   3212\u001b[0m       \u001b[0mself\u001b[0m\u001b[1;33m.\u001b[0m\u001b[0m_function_cache\u001b[0m\u001b[1;33m.\u001b[0m\u001b[0mmissed\u001b[0m\u001b[1;33m.\u001b[0m\u001b[0madd\u001b[0m\u001b[1;33m(\u001b[0m\u001b[0mcall_context_key\u001b[0m\u001b[1;33m)\u001b[0m\u001b[1;33m\u001b[0m\u001b[1;33m\u001b[0m\u001b[0m\n",
      "\u001b[1;32m~\\.conda\\envs\\ELTE-RL\\lib\\site-packages\\tensorflow\\python\\eager\\function.py\u001b[0m in \u001b[0;36m_define_function_with_shape_relaxation\u001b[1;34m(self, args, kwargs)\u001b[0m\n\u001b[0;32m   3139\u001b[0m           expand_composites=True)\n\u001b[0;32m   3140\u001b[0m \u001b[1;33m\u001b[0m\u001b[0m\n\u001b[1;32m-> 3141\u001b[1;33m     graph_function = self._create_graph_function(\n\u001b[0m\u001b[0;32m   3142\u001b[0m         args, kwargs, override_flat_arg_shapes=relaxed_arg_shapes)\n\u001b[0;32m   3143\u001b[0m     \u001b[0mself\u001b[0m\u001b[1;33m.\u001b[0m\u001b[0m_function_cache\u001b[0m\u001b[1;33m.\u001b[0m\u001b[0marg_relaxed\u001b[0m\u001b[1;33m[\u001b[0m\u001b[0mrank_only_cache_key\u001b[0m\u001b[1;33m]\u001b[0m \u001b[1;33m=\u001b[0m \u001b[0mgraph_function\u001b[0m\u001b[1;33m\u001b[0m\u001b[1;33m\u001b[0m\u001b[0m\n",
      "\u001b[1;32m~\\.conda\\envs\\ELTE-RL\\lib\\site-packages\\tensorflow\\python\\eager\\function.py\u001b[0m in \u001b[0;36m_create_graph_function\u001b[1;34m(self, args, kwargs, override_flat_arg_shapes)\u001b[0m\n\u001b[0;32m   3063\u001b[0m     \u001b[0marg_names\u001b[0m \u001b[1;33m=\u001b[0m \u001b[0mbase_arg_names\u001b[0m \u001b[1;33m+\u001b[0m \u001b[0mmissing_arg_names\u001b[0m\u001b[1;33m\u001b[0m\u001b[1;33m\u001b[0m\u001b[0m\n\u001b[0;32m   3064\u001b[0m     graph_function = ConcreteFunction(\n\u001b[1;32m-> 3065\u001b[1;33m         func_graph_module.func_graph_from_py_func(\n\u001b[0m\u001b[0;32m   3066\u001b[0m             \u001b[0mself\u001b[0m\u001b[1;33m.\u001b[0m\u001b[0m_name\u001b[0m\u001b[1;33m,\u001b[0m\u001b[1;33m\u001b[0m\u001b[1;33m\u001b[0m\u001b[0m\n\u001b[0;32m   3067\u001b[0m             \u001b[0mself\u001b[0m\u001b[1;33m.\u001b[0m\u001b[0m_python_function\u001b[0m\u001b[1;33m,\u001b[0m\u001b[1;33m\u001b[0m\u001b[1;33m\u001b[0m\u001b[0m\n",
      "\u001b[1;32m~\\.conda\\envs\\ELTE-RL\\lib\\site-packages\\tensorflow\\python\\framework\\func_graph.py\u001b[0m in \u001b[0;36mfunc_graph_from_py_func\u001b[1;34m(name, python_func, args, kwargs, signature, func_graph, autograph, autograph_options, add_control_dependencies, arg_names, op_return_value, collections, capture_by_value, override_flat_arg_shapes)\u001b[0m\n\u001b[0;32m    984\u001b[0m         \u001b[0m_\u001b[0m\u001b[1;33m,\u001b[0m \u001b[0moriginal_func\u001b[0m \u001b[1;33m=\u001b[0m \u001b[0mtf_decorator\u001b[0m\u001b[1;33m.\u001b[0m\u001b[0munwrap\u001b[0m\u001b[1;33m(\u001b[0m\u001b[0mpython_func\u001b[0m\u001b[1;33m)\u001b[0m\u001b[1;33m\u001b[0m\u001b[1;33m\u001b[0m\u001b[0m\n\u001b[0;32m    985\u001b[0m \u001b[1;33m\u001b[0m\u001b[0m\n\u001b[1;32m--> 986\u001b[1;33m       \u001b[0mfunc_outputs\u001b[0m \u001b[1;33m=\u001b[0m \u001b[0mpython_func\u001b[0m\u001b[1;33m(\u001b[0m\u001b[1;33m*\u001b[0m\u001b[0mfunc_args\u001b[0m\u001b[1;33m,\u001b[0m \u001b[1;33m**\u001b[0m\u001b[0mfunc_kwargs\u001b[0m\u001b[1;33m)\u001b[0m\u001b[1;33m\u001b[0m\u001b[1;33m\u001b[0m\u001b[0m\n\u001b[0m\u001b[0;32m    987\u001b[0m \u001b[1;33m\u001b[0m\u001b[0m\n\u001b[0;32m    988\u001b[0m       \u001b[1;31m# invariant: `func_outputs` contains only Tensors, CompositeTensors,\u001b[0m\u001b[1;33m\u001b[0m\u001b[1;33m\u001b[0m\u001b[1;33m\u001b[0m\u001b[0m\n",
      "\u001b[1;32m~\\.conda\\envs\\ELTE-RL\\lib\\site-packages\\tensorflow\\python\\eager\\def_function.py\u001b[0m in \u001b[0;36mwrapped_fn\u001b[1;34m(*args, **kwds)\u001b[0m\n\u001b[0;32m    598\u001b[0m         \u001b[1;31m# __wrapped__ allows AutoGraph to swap in a converted function. We give\u001b[0m\u001b[1;33m\u001b[0m\u001b[1;33m\u001b[0m\u001b[1;33m\u001b[0m\u001b[0m\n\u001b[0;32m    599\u001b[0m         \u001b[1;31m# the function a weak reference to itself to avoid a reference cycle.\u001b[0m\u001b[1;33m\u001b[0m\u001b[1;33m\u001b[0m\u001b[1;33m\u001b[0m\u001b[0m\n\u001b[1;32m--> 600\u001b[1;33m         \u001b[1;32mreturn\u001b[0m \u001b[0mweak_wrapped_fn\u001b[0m\u001b[1;33m(\u001b[0m\u001b[1;33m)\u001b[0m\u001b[1;33m.\u001b[0m\u001b[0m__wrapped__\u001b[0m\u001b[1;33m(\u001b[0m\u001b[1;33m*\u001b[0m\u001b[0margs\u001b[0m\u001b[1;33m,\u001b[0m \u001b[1;33m**\u001b[0m\u001b[0mkwds\u001b[0m\u001b[1;33m)\u001b[0m\u001b[1;33m\u001b[0m\u001b[1;33m\u001b[0m\u001b[0m\n\u001b[0m\u001b[0;32m    601\u001b[0m     \u001b[0mweak_wrapped_fn\u001b[0m \u001b[1;33m=\u001b[0m \u001b[0mweakref\u001b[0m\u001b[1;33m.\u001b[0m\u001b[0mref\u001b[0m\u001b[1;33m(\u001b[0m\u001b[0mwrapped_fn\u001b[0m\u001b[1;33m)\u001b[0m\u001b[1;33m\u001b[0m\u001b[1;33m\u001b[0m\u001b[0m\n\u001b[0;32m    602\u001b[0m \u001b[1;33m\u001b[0m\u001b[0m\n",
      "\u001b[1;32m~\\.conda\\envs\\ELTE-RL\\lib\\site-packages\\tensorflow\\python\\framework\\func_graph.py\u001b[0m in \u001b[0;36mwrapper\u001b[1;34m(*args, **kwargs)\u001b[0m\n\u001b[0;32m    971\u001b[0m           \u001b[1;32mexcept\u001b[0m \u001b[0mException\u001b[0m \u001b[1;32mas\u001b[0m \u001b[0me\u001b[0m\u001b[1;33m:\u001b[0m  \u001b[1;31m# pylint:disable=broad-except\u001b[0m\u001b[1;33m\u001b[0m\u001b[1;33m\u001b[0m\u001b[0m\n\u001b[0;32m    972\u001b[0m             \u001b[1;32mif\u001b[0m \u001b[0mhasattr\u001b[0m\u001b[1;33m(\u001b[0m\u001b[0me\u001b[0m\u001b[1;33m,\u001b[0m \u001b[1;34m\"ag_error_metadata\"\u001b[0m\u001b[1;33m)\u001b[0m\u001b[1;33m:\u001b[0m\u001b[1;33m\u001b[0m\u001b[1;33m\u001b[0m\u001b[0m\n\u001b[1;32m--> 973\u001b[1;33m               \u001b[1;32mraise\u001b[0m \u001b[0me\u001b[0m\u001b[1;33m.\u001b[0m\u001b[0mag_error_metadata\u001b[0m\u001b[1;33m.\u001b[0m\u001b[0mto_exception\u001b[0m\u001b[1;33m(\u001b[0m\u001b[0me\u001b[0m\u001b[1;33m)\u001b[0m\u001b[1;33m\u001b[0m\u001b[1;33m\u001b[0m\u001b[0m\n\u001b[0m\u001b[0;32m    974\u001b[0m             \u001b[1;32melse\u001b[0m\u001b[1;33m:\u001b[0m\u001b[1;33m\u001b[0m\u001b[1;33m\u001b[0m\u001b[0m\n\u001b[0;32m    975\u001b[0m               \u001b[1;32mraise\u001b[0m\u001b[1;33m\u001b[0m\u001b[1;33m\u001b[0m\u001b[0m\n",
      "\u001b[1;31mTypeError\u001b[0m: in user code:\n\n    C:\\Users\\nasbo\\.conda\\envs\\ELTE-RL\\lib\\site-packages\\tensorflow\\python\\keras\\engine\\training.py:806 train_function  *\n        return step_function(self, iterator)\n    <ipython-input-14-05e4278b786d>:13 loss  *\n        tmp_loss = keras.layers.Lambda(lambda x:-y_true*keras.backend.log(x)-(1-y_true)*(keras.backend.log(1-x)))(tmp_pred)\n    C:\\Users\\nasbo\\.conda\\envs\\ELTE-RL\\lib\\site-packages\\tensorflow\\python\\ops\\math_ops.py:1141 binary_op_wrapper\n        raise e\n    C:\\Users\\nasbo\\.conda\\envs\\ELTE-RL\\lib\\site-packages\\tensorflow\\python\\ops\\math_ops.py:1125 binary_op_wrapper\n        return func(x, y, name=name)\n    C:\\Users\\nasbo\\.conda\\envs\\ELTE-RL\\lib\\site-packages\\tensorflow\\python\\ops\\math_ops.py:1457 _mul_dispatch\n        return multiply(x, y, name=name)\n    C:\\Users\\nasbo\\.conda\\envs\\ELTE-RL\\lib\\site-packages\\tensorflow\\python\\util\\dispatch.py:201 wrapper\n        return target(*args, **kwargs)\n    C:\\Users\\nasbo\\.conda\\envs\\ELTE-RL\\lib\\site-packages\\tensorflow\\python\\ops\\math_ops.py:509 multiply\n        return gen_math_ops.mul(x, y, name)\n    C:\\Users\\nasbo\\.conda\\envs\\ELTE-RL\\lib\\site-packages\\tensorflow\\python\\ops\\gen_math_ops.py:6174 mul\n        _, _, _op, _outputs = _op_def_library._apply_op_helper(\n    C:\\Users\\nasbo\\.conda\\envs\\ELTE-RL\\lib\\site-packages\\tensorflow\\python\\framework\\op_def_library.py:503 _apply_op_helper\n        raise TypeError(\n\n    TypeError: Input 'y' of 'Mul' Op has type float32 that does not match type int32 of argument 'x'.\n"
     ]
    }
   ],
   "source": [
    "train_n_times = 21 # for actual training, about 5000 may be a good start. \n",
    "for i in range(train_n_times):\n",
    "    states_list,up_or_down_action_list,rewards_list,network_output_list=generate_episode_batches_and_train_network(10)\n",
    "    if i%10==0:\n",
    "        print(\"i=\"+str(i))\n",
    "        rr=np.array(rewards_list)\n",
    "        # i keep how many times we won in batch. you can use log more details more frequently\n",
    "        print('count win='+str(len(rr[rr>0]))) \n",
    "        policy_network_model.save(\"policy_network_model_simple.h5\")\n",
    "        policy_network_model.save(\"policy_network_model_simple\"+str(i)+\".h5\")\n",
    "        with open('rews_model_simple.txt','a') as f_rew:\n",
    "            f_rew.write(\"i=\"+str(i)+'       reward= '+str(len(rr[rr > 0])))\n",
    "            f_rew.write(\"\\n\")"
   ]
  },
  {
   "cell_type": "markdown",
   "id": "a122e03e",
   "metadata": {},
   "source": [
    "# Playing the trained Network"
   ]
  },
  {
   "cell_type": "code",
   "execution_count": null,
   "id": "b2b25f2e",
   "metadata": {},
   "outputs": [],
   "source": [
    "import time\n",
    "def play_and_show_episode(policy_network):\n",
    "    env = gym.make('Pong-v0')\n",
    "    done=False\n",
    "    observation = env.reset()\n",
    "    new_observation = observation\n",
    "    while done==False:\n",
    "        time.sleep(1/80)\n",
    "        \n",
    "        processed_network_input = preprocess_frames(new_frame=new_observation,last_frame=observation)\n",
    "        reshaped_input = np.expand_dims(processed_network_input,axis=0) # x shape is (80,80) so we need similar reshape(x,(1,80,80))\n",
    "\n",
    "        up_probability = policy_network.predict(reshaped_input,batch_size=1)[0][0]\n",
    "        actual_action = np.random.choice(a=[2,3],size=1,p=[up_probability,1-up_probability])\n",
    "        \n",
    "        env.render()\n",
    "        \n",
    "        observation= new_observation\n",
    "        new_observation, reward, done, info = env.step(actual_action)\n",
    "        if reward!=0:\n",
    "            print(reward)\n",
    "        if done:\n",
    "            break\n",
    "        \n",
    "    env.close()"
   ]
  },
  {
   "cell_type": "code",
   "execution_count": null,
   "id": "ccb692ba",
   "metadata": {},
   "outputs": [],
   "source": [
    "play_and_show_episode(policy_network_model)"
   ]
  },
  {
   "cell_type": "code",
   "execution_count": null,
   "id": "e15cd778",
   "metadata": {},
   "outputs": [],
   "source": []
  }
 ],
 "metadata": {
  "kernelspec": {
   "display_name": "Python 3",
   "language": "python",
   "name": "python3"
  },
  "language_info": {
   "codemirror_mode": {
    "name": "ipython",
    "version": 3
   },
   "file_extension": ".py",
   "mimetype": "text/x-python",
   "name": "python",
   "nbconvert_exporter": "python",
   "pygments_lexer": "ipython3",
   "version": "3.8.8"
  }
 },
 "nbformat": 4,
 "nbformat_minor": 5
}
